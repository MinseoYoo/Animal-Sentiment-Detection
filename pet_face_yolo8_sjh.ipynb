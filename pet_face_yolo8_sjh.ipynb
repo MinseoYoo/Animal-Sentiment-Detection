!wget -O pet_data.zip https://app.roboflow.com/ds/syyrANlDG7?key=LXE1x2lebc
